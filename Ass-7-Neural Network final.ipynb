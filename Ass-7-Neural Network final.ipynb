{
 "cells": [
  {
   "cell_type": "code",
   "execution_count": 1,
   "metadata": {},
   "outputs": [],
   "source": [
    "import scipy.io\n",
    "import numpy as np\n",
    "import pandas as pd"
   ]
  },
  {
   "cell_type": "code",
   "execution_count": 3,
   "metadata": {},
   "outputs": [
    {
     "data": {
      "text/plain": [
       "(5000, 400)"
      ]
     },
     "execution_count": 3,
     "metadata": {},
     "output_type": "execute_result"
    }
   ],
   "source": [
    "f = scipy.io.loadmat('ex4data1.mat')\n",
    "data1=f['X']\n",
    "out=f['y']\n",
    "x1,y1=data1.shape\n",
    "out.shape\n",
    "data1.shape"
   ]
  },
  {
   "cell_type": "code",
   "execution_count": 3,
   "metadata": {},
   "outputs": [],
   "source": [
    "# one=np.ones((x,1))\n",
    "# one\n",
    "# data1=np.hstack((data,one))\n",
    "# x1,y1=data1.shape\n",
    "# data1[:5,:]"
   ]
  },
  {
   "cell_type": "code",
   "execution_count": 4,
   "metadata": {},
   "outputs": [],
   "source": [
    "W1=np.random.randn(26,y1)*np.sqrt(1/y1)\n",
    "W1.shape\n",
    "W1[:5,:]\n",
    "bias1=np.random.randn(26,1)*np.sqrt(1/y1)"
   ]
  },
  {
   "cell_type": "code",
   "execution_count": 5,
   "metadata": {},
   "outputs": [],
   "source": [
    "def sigmoid(data):\n",
    "    return 1/(1+np.exp(-1*data))\n",
    "def maximizer(data):\n",
    "    return np.argmax(data,axis=1)"
   ]
  },
  {
   "cell_type": "code",
   "execution_count": 6,
   "metadata": {},
   "outputs": [],
   "source": [
    "W2=np.random.randn(10,26)*np.sqrt(1/26)\n",
    "W2.shape\n",
    "bias2=np.random.randn(10,1)*np.sqrt(1/26)"
   ]
  },
  {
   "cell_type": "code",
   "execution_count": 7,
   "metadata": {},
   "outputs": [],
   "source": [
    "def Forward_prop(W1,bias1,W2,bias2,data1):\n",
    "    data2=np.dot(W1,data1.T)\n",
    "    data2=data2+bias1\n",
    "    act_data2=sigmoid(data2)\n",
    "    x3,y3=act_data2.shape\n",
    "    data3=np.dot(W2,act_data2)\n",
    "    act_data3=sigmoid(data3).T\n",
    "    return [act_data3,act_data2]"
   ]
  },
  {
   "cell_type": "code",
   "execution_count": 8,
   "metadata": {},
   "outputs": [
    {
     "name": "stdout",
     "output_type": "stream",
     "text": [
      "10.74\n"
     ]
    }
   ],
   "source": [
    "# data2=np.dot(W1,data1.T)\n",
    "# data2=data2+bias1\n",
    "# act_data2=sigmoid(data2)\n",
    "# x3,y3=act_data2.shape\n",
    "# data3=np.dot(W2,act_data2)\n",
    "# data3=data3+bias2\n",
    "# act_data3=sigmoid(data3).T\n",
    "act_data3,act_data2=Forward_prop(W1,bias1,W2,bias2,data1)\n",
    "prediction_final=maximizer(act_data3)\n",
    "c=0\n",
    "for i,j in zip(prediction_final,out):\n",
    "    if i==0:\n",
    "        i=10\n",
    "    if i==j:\n",
    "        c+=1\n",
    "print(c/x1*100)"
   ]
  },
  {
   "cell_type": "code",
   "execution_count": 9,
   "metadata": {},
   "outputs": [
    {
     "name": "stdout",
     "output_type": "stream",
     "text": [
      "(5000, 10)\n"
     ]
    },
    {
     "data": {
      "text/plain": [
       "array([[1., 0., 0., ..., 0., 0., 0.],\n",
       "       [1., 0., 0., ..., 0., 0., 0.],\n",
       "       [1., 0., 0., ..., 0., 0., 0.],\n",
       "       ...,\n",
       "       [0., 0., 0., ..., 0., 0., 1.],\n",
       "       [0., 0., 0., ..., 0., 0., 1.],\n",
       "       [0., 0., 0., ..., 0., 0., 1.]])"
      ]
     },
     "execution_count": 9,
     "metadata": {},
     "output_type": "execute_result"
    }
   ],
   "source": [
    "data_X=np.zeros((x1,10))\n",
    "print(data_X.shape)\n",
    "for i,j in zip(out,range(0,x1)):\n",
    "    data_X[j,i%10]=1\n",
    "data_X"
   ]
  },
  {
   "cell_type": "code",
   "execution_count": 10,
   "metadata": {},
   "outputs": [
    {
     "data": {
      "text/plain": [
       "2.530133027988146"
      ]
     },
     "execution_count": 10,
     "metadata": {},
     "output_type": "execute_result"
    }
   ],
   "source": [
    "alpha=0.99\n",
    "loss=1/x1*np.sum(np.sum((act_data3-data_X)**2,axis=1),axis=0)\n",
    "loss"
   ]
  },
  {
   "cell_type": "code",
   "execution_count": 11,
   "metadata": {},
   "outputs": [],
   "source": [
    "def Backward_prop(act_data3,data_X,act_data2,W2,W1,bias1,bias2):\n",
    "    dz2=act_data3-data_X\n",
    "    for i in range(0,10):\n",
    "        if i==0:\n",
    "            dw2=np.sum(dz2[:,i].T*act_data2,axis=1)\n",
    "            db2=np.sum(dz2[:,i],axis=0)\n",
    "        else:\n",
    "            x=np.sum(dz2[:,i].T*act_data2,axis=1)\n",
    "            y=np.sum(dz2[:,i],axis=0)\n",
    "            dw2=np.vstack((dw2,x))\n",
    "            db2=np.vstack((db2,y))\n",
    "    W2=W2-alpha*1/x1*dw2\n",
    "    bias2=bias2-alpha*1/x1*db2\n",
    "    dz1=np.dot(W2.T,dz2.T)*((act_data2*(1-act_data2)))\n",
    "    dw1=np.dot(dz1,data1)\n",
    "    db1=np.sum(dz1,axis=1)\n",
    "    db1=db1.reshape(26,1)\n",
    "    W1=W1-alpha*1/x1*dw1\n",
    "    bias1=bias1-alpha*1/x1*db1\n",
    "    return [W1,bias1,W2,bias2]"
   ]
  },
  {
   "cell_type": "code",
   "execution_count": 21,
   "metadata": {},
   "outputs": [],
   "source": [
    "for i in range(0,5000):\n",
    "    W1,bias1,W2,bias2=Backward_prop(act_data3,data_X,act_data2,W2,W1,bias1,bias2)\n",
    "    act_data3,act_data2=Forward_prop(W1,bias1,W2,bias2,data1)\n",
    "#     prediction_final=maximizer(act_data3)\n",
    "#     c=0\n",
    "#     for i,j in zip(prediction_final,out):\n",
    "#         if i==0:\n",
    "#             i=10\n",
    "#         if i==j:\n",
    "#             c+=1\n",
    "#     if(c/x1*100>=94.6):\n",
    "#         break"
   ]
  },
  {
   "cell_type": "code",
   "execution_count": 13,
   "metadata": {},
   "outputs": [],
   "source": [
    "# for i in range(0,1000):\n",
    "#     dz2=act_data3-data_X\n",
    "#     for i in range(0,10):\n",
    "#         if i==0:\n",
    "#             dw2=np.sum(dz2[:,i].T*act_data2,axis=1)\n",
    "#             db2=np.sum(dz2[:,i],axis=0)\n",
    "#         else:\n",
    "#             x=np.sum(dz2[:,i].T*act_data2,axis=1)\n",
    "#             y=np.sum(dz2[:,i],axis=0)\n",
    "#             dw2=np.vstack((dw2,x))\n",
    "#             db2=np.vstack((db2,))\n",
    "#     W2=W2-alpha*1/x1*dw2\n",
    "#     bias2=bias2-alpha*1/x1*db2\n",
    "#     dz1=np.dot(W2.T,dz2.T)*((act_data2*(1-act_data2)))\n",
    "#     dw1=np.dot(dz1,data1)\n",
    "#     db1=np.sum(dz1,axis=1)\n",
    "#     W1=W1-alpha*1/x1*dw1\n",
    "#     bias1=bias1-alpha*1/x1*db1\n",
    "#     data2=np.dot(W1,data1.T)\n",
    "#     act_data2=sigmoid(data2)\n",
    "#     x3,y3=act_data2.shape\n",
    "#     data3=np.dot(W2,act_data2)\n",
    "#     act_data3=sigmoid(data3).T"
   ]
  },
  {
   "cell_type": "code",
   "execution_count": 22,
   "metadata": {},
   "outputs": [
    {
     "name": "stdout",
     "output_type": "stream",
     "text": [
      "99.98\n"
     ]
    }
   ],
   "source": [
    "prediction_final=maximizer(act_data3)\n",
    "c=0\n",
    "for i,j in zip(prediction_final,out):\n",
    "    if i==0:\n",
    "        i=10\n",
    "    if i==j:\n",
    "        c+=1\n",
    "print(c/x1*100)"
   ]
  },
  {
   "cell_type": "code",
   "execution_count": 18,
   "metadata": {},
   "outputs": [
    {
     "data": {
      "text/plain": [
       "0.00365244151566776"
      ]
     },
     "execution_count": 18,
     "metadata": {},
     "output_type": "execute_result"
    }
   ],
   "source": [
    "loss=1/x1*np.sum(np.sum((act_data3-data_X)**2,axis=1),axis=0)\n",
    "loss"
   ]
  }
 ],
 "metadata": {
  "kernelspec": {
   "display_name": "Python 3",
   "language": "python",
   "name": "python3"
  },
  "language_info": {
   "codemirror_mode": {
    "name": "ipython",
    "version": 3
   },
   "file_extension": ".py",
   "mimetype": "text/x-python",
   "name": "python",
   "nbconvert_exporter": "python",
   "pygments_lexer": "ipython3",
   "version": "3.7.3"
  }
 },
 "nbformat": 4,
 "nbformat_minor": 2
}
